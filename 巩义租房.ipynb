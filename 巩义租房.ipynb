{
 "cells": [
  {
   "cell_type": "code",
   "execution_count": null,
   "metadata": {
    "collapsed": true
   },
   "outputs": [],
   "source": [
    "import requests\n",
    "from bs4 import BeautifulSoup\n",
    "\n",
    "def get_house_info(url):\n",
    "    content = BeautifulSoup(requests.get(url, headers = headersParameters).text, 'lxml')\n",
    "    house_name = content.find('div', class_ = 'info clearfix').find('h1').text[1:]\n",
    "    house_info = [house_name]\n",
    "    for i in content.find('dl', class_ = 'clearfix').find_all('dd'):\n",
    "        house_info.append(i.text)\n",
    "    return house_info\n",
    "        \n",
    "headersParameters = {  #发送HTTP请求时的HEAD信息，用于伪装为浏览器\n",
    "    'Connection': 'Keep-Alive',\n",
    "    'Accept': 'text/html, application/xhtml+xml, */*',\n",
    "    'Accept-Language': 'en-US,en;q=0.8,zh-Hans-CN;q=0.5,zh-Hans;q=0.3',\n",
    "    'Accept-Encoding': 'gzip, deflate',\n",
    "    'User-Agent': 'Mozilla/6.1 (Windows NT 6.3; WOW64; Trident/7.0; rv:11.0) like Gecko'\n",
    "}\n",
    "house = []\n",
    "for i in range(1,27):\n",
    "    url = 'https://www.gongyizhushou.com/house/chushou.html?PageNo='+ str(i)\n",
    "    urlText = requests.get(url, headers = headersParameters).text\n",
    "    soup = BeautifulSoup(urlText, 'lxml')\n",
    "    houses_in_page = []\n",
    "    for value in soup.find('div', class_ = 'list').find_all('div', class_ = 'hy_t'):\n",
    "        postfix = 'https://www.gongyizhushou.com/house/' + value.find('a')['href']\n",
    "        houses_in_page.append(get_house_info(postfix))\n",
    "    print('This is page ' + str(i))\n",
    "    house = house + houses_in_page    \n",
    "houses    \n",
    "\n",
    "import pandas as pd \n",
    "df = pd.DataFrame(houses)\n",
    "df.to_csv('123.csv', sep = '\\t')"
   ]
  }
 ],
 "metadata": {
  "anaconda-cloud": {},
  "kernelspec": {
   "display_name": "Python [conda root]",
   "language": "python",
   "name": "conda-root-py"
  },
  "language_info": {
   "codemirror_mode": {
    "name": "ipython",
    "version": 3
   },
   "file_extension": ".py",
   "mimetype": "text/x-python",
   "name": "python",
   "nbconvert_exporter": "python",
   "pygments_lexer": "ipython3",
   "version": "3.5.5"
  }
 },
 "nbformat": 4,
 "nbformat_minor": 2
}
